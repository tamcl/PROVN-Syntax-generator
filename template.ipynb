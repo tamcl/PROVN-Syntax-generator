{
 "cells": [
  {
   "cell_type": "code",
   "execution_count": 1,
   "metadata": {},
   "outputs": [],
   "source": [
    "import sys, os\n",
    "# sys.path.append('.')\n",
    "from library.provnGenerator import provnGenerator\n",
    "\n",
    "output_filepath = './output'\n",
    "try:\n",
    "    os.mkdir(output_filepath)\n",
    "except:\n",
    "    pass\n",
    "\n",
    "generator = provnGenerator()\n",
    "\n"
   ]
  },
  {
   "cell_type": "code",
   "execution_count": 2,
   "metadata": {},
   "outputs": [],
   "source": [
    "generator.openDocument()\n",
    "generator.prefix('ex', 'http://example.com/survey/')\n",
    "generator.prefix('s', 'http://schema.org/')\n",
    "Bob = generator.agent('ex', 'Bob', {'prov:type': 'prov:Person', 's:email':'example@example.com'})\n"
   ]
  },
  {
   "cell_type": "code",
   "execution_count": 3,
   "metadata": {},
   "outputs": [],
   "source": [
    "generator.endDocument(path=output_filepath)"
   ]
  }
 ],
 "metadata": {
  "kernelspec": {
   "display_name": "Python 3",
   "language": "python",
   "name": "python3"
  },
  "language_info": {
   "codemirror_mode": {
    "name": "ipython",
    "version": 3
   },
   "file_extension": ".py",
   "mimetype": "text/x-python",
   "name": "python",
   "nbconvert_exporter": "python",
   "pygments_lexer": "ipython3",
   "version": "3.7.6"
  }
 },
 "nbformat": 4,
 "nbformat_minor": 4
}
